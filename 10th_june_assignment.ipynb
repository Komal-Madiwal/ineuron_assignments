{
 "cells": [
  {
   "cell_type": "code",
   "execution_count": null,
   "id": "1a229e62",
   "metadata": {},
   "outputs": [],
   "source": [
    "# 1.In Python, what is the difference between a built-in function and a user-defined function? Provide an example of each.\n",
    "# Built-in Functions:\n",
    "# Built-in functions are pre-defined functions that come with the Python programming language. They are part of the Python\n",
    "# standard library and are readily available for use without requiring any additional imports.\n",
    "#Examples of built-in functions include print(), len(), sum(), max(), min()\n",
    "# Built-in function example\n",
    "num_list = [1, 2, 3, 4, 55]\n",
    "print(max(num_list)) \n",
    "\n",
    "#user defined fucntion\n",
    "# A user-defined function is a function in Python that is created by the programmer (user) to perform specific tasks based on \n",
    "#their requirements. These functions allow developers to break down complex tasks into smaller, reusable blocks of code, enhancing the readability and maintainability of the program.\n",
    "# User-defined functions are defined using the def keyword followed by the function name, a pair of parentheses (), and a colon\n",
    "#:. The function body is indented below the def statement and contains the code that the function executes when called.\n",
    "\n",
    "\n",
    "#example\n",
    "# User-defined function example\n",
    "def multiply(a,b):\n",
    "    return a +  b\n",
    "\n",
    "result = multiply(1000,12)\n",
    "print(result)  \n",
    "\n"
   ]
  },
  {
   "cell_type": "code",
   "execution_count": null,
   "id": "8a809338",
   "metadata": {},
   "outputs": [],
   "source": [
    "# 2.How can you pass arguments to a function in Python? Explain the difference between positional arguments and keyword arguments.\n",
    "\n",
    "# • pass arguments to a function in two main ways: positional arguments and keyword arguments.\n",
    "\n",
    "# •Positional Arguments: A positional argument is a name that is not followed by an equal sign (=) and default value.\n",
    "# •A keyword argument :is followed by an equal sign and Keyword arguments can also be passed to functions using a Python dictionary. The dictionary must contain the keywords as keys and the values as values. \n",
    "# ##positional and keyword argument\n",
    "\n",
    "def hello (*args,**kwargs): #(*sunita,**mittal)\n",
    "    print(args) #positional\n",
    "    print(kwargs)#keyword\n",
    "\n",
    "ls=list((\"sunita\",\"mittal\"))\n",
    "dict={\"age\":33,\"dob\":1988}\n",
    "\n",
    "hello(ls,dict) # only positional argumnrt is printed default\n",
    "\n",
    "\n",
    "hello(*ls,**dict) #also considering keyword argumnent\n",
    "\n"
   ]
  },
  {
   "cell_type": "code",
   "execution_count": null,
   "id": "e3f44d56",
   "metadata": {},
   "outputs": [],
   "source": [
    "# 3.What is the purpose of the return statement in a function? Can a function have multiple return statements? Explain with an example.\n",
    "\n",
    "# •The return statement in a function serves the purpose of sending a value back from the function to the code that called it. When a function is executed and encounters a return statement, it immediately stops executing the rest of the function and returns the specified value (if any) to the caller.\n",
    "\n",
    "\n",
    "# •A function can have multiple return statements, but only one of them will be executed. The first return statement that is encountered will be the one that is executed, and the rest of the function will be skipped. For example, the following function has two return statements:\n",
    "def max(x, y):\n",
    "    if x > y:\n",
    "        return x\n",
    "    else:\n",
    "        return y\n",
    "print(max(12,10))\n"
   ]
  },
  {
   "cell_type": "code",
   "execution_count": null,
   "id": "d3378574",
   "metadata": {},
   "outputs": [],
   "source": [
    "#4.What are lambda functions in Python? How are they different from regular functions? Provide an example where a lambda function can be useful.\n",
    "\n",
    "#What are lambda functions \n",
    "# lambda function is a small anonymous and one-line functions in Python without using the def keyword. \n",
    "# lambda function can take any number of arguments, but can only have one expression.\n",
    "\n",
    "# •Definition: Lambda functions are defined using the lambda keyword, while regular functions are defined using the def keyword.\n",
    "# •Body: The body of a lambda function is a single expression, while the body of a regular function can be a block of statements.\n",
    "# •Scope: The scope of a lambda function is limited to the enclosing expression, while the scope of a regular function is global by default.\n",
    "# •Name: Lambda functions do not have a name, while regular functions have a name\n",
    "\n",
    "\n",
    "x = lambda a : a + 10\n",
    "print(x(5))\n"
   ]
  },
  {
   "cell_type": "code",
   "execution_count": 7,
   "id": "c817a0f8",
   "metadata": {},
   "outputs": [
    {
     "name": "stdout",
     "output_type": "stream",
     "text": [
      "10 20 30\n"
     ]
    }
   ],
   "source": [
    "#6.\tHow can you use the \"return\" statement in a Python function to return multiple values?\n",
    "# •In Python, you can use the return statement to return multiple values from a function by separating the values with commas. The values returned from the function will be enclosed in a tuple.\n",
    "# following are the examples:\n",
    "def multiple_return_values():\n",
    "    return 10, 20, 30\n",
    "\n",
    "\n",
    "result1, result2, result3 = multiple_return_values()\n",
    "print(result1, result2, result3)\n",
    "#OR\n",
    "#print(multiple_return_values())\n"
   ]
  },
  {
   "cell_type": "markdown",
   "id": "9dc720a0",
   "metadata": {},
   "source": [
    "7.What is the difference between the \"pass by value\" and \"pass by reference\" concepts when it comes to function arguments in Python?"
   ]
  },
  {
   "cell_type": "code",
   "execution_count": 7,
   "id": "b0f7ba6a",
   "metadata": {},
   "outputs": [
    {
     "name": "stdout",
     "output_type": "stream",
     "text": [
      "Enter a numeric value:4\n",
      "Logarithmic function (log4.0): 1.3862943611198906\n",
      "Exponential function (expo 4.0): 54.598150033144236\n",
      "Power function with base 2 (4.0^2): 16.0\n",
      "Square root of 4.0: 2.0\n"
     ]
    }
   ],
   "source": [
    "# 8.\tCreate a function that can intake integer or decimal value and do following operations:\n",
    "# a.\tLogarithmic function (log x)\n",
    "# b.\tExponential function (exp(x))\n",
    "# c.\tPower function with base 2 (2x)\n",
    "# d.\tSquare root\n",
    "import math\n",
    "\n",
    "def operations(x):\n",
    "    log_result = math.log(x)\n",
    "    exp_result = math.exp(x)\n",
    "    power_result = 2 ** x\n",
    "    sqrt_result = math.sqrt(x)\n",
    "    \n",
    "    return log_result, exp_result, power_result, sqrt_result\n",
    "\n",
    "value = float(input(\"Enter a numeric value:\"))\n",
    "log_result, exp_result, power_result, sqrt_result = operations(value)\n",
    "\n",
    "print(f\"Logarithmic function (log{value}): {log_result}\")\n",
    "print(f\"Exponential function (expo {value}): {exp_result}\")\n",
    "print(f\"Power function with base 2 ({value}^2): {power_result}\")\n",
    "print(f\"Square root of {value}: {sqrt_result}\")\n"
   ]
  },
  {
   "cell_type": "code",
   "execution_count": null,
   "id": "5cfb7350",
   "metadata": {},
   "outputs": [],
   "source": [
    "# How does the concept of \"scope\" apply to functions in Python? Explain the difference between local scope and global scope. in python \n",
    "\n",
    "# •In Python, the term \"scope\" refers to the context or area within your code where a variable is defined and can be accessed. It determine  how variables, objects, and functions are accessible from different part of the code.\n",
    "\n",
    "# •\tDifference between local scope and global scope. in python :\n",
    "# •\tLocal Scope:\n",
    "# 1.\tLocal scope refers to the part of your code where a variable is defined within a specific function.\n",
    "# 2.\tVariables created within a function have local scope, meaning they can only be accessed within that function.\n",
    "# 3.\tThese variables are not visible or accessible outside the function that defines them.\n",
    "# 4.\tLocal scope is isolated and specific to each function, so variables with the same name in different functions don't conflict with each other.\n",
    "# 5.\tLocal variables are created when the function is called and destroyed when the function completes. They don't persist beyond the function's execution.\n",
    "# 6.\tLocal variables can be modified and used within the function where they are defined. Changes to local variables don't affect the same-named variables in other functions or the global scope.\n",
    "# 7.\tLocal variables are useful for storing temporary or intermediate data that's specific to a particular function's execution.\n",
    "\n",
    "\n",
    "# •\tGlobal Scope:\n",
    "# 1.\tGlobal scope refers to the broader context of your entire code, outside of any specific function.\n",
    "# 2.\tVariables defined at the top level of your script, outside of any function, have global scope.\n",
    "# 3.\tThese variables can be accessed from anywhere within your code, including within functions.\n",
    "# 4.\tGlobal variables are visible across the entire code, making them available for use in multiple functions.\n",
    "# 5.\tGlobal variables remain in memory throughout the entire program's execution. They persist and can be accessed by any part of the code.\n",
    "# 6.\tGlobal variables can be modified directly within functions without using the global keyword. Changes to global variables are reflected throughout the entire codebase.\n",
    "# 7.\tGlobal variables are suitable for data that needs to be shared across different functions or parts of the program.\n",
    "\n",
    "# here is example of global and local scope;\n",
    "global_variable = 100  # This is a global variable\n",
    "\n",
    "def my_function():\n",
    "    local_variable = 50  # This is a local variable within the function\n",
    "    print(\"Inside the function:\")\n",
    "    print(\"Local variable:\", local_variable)  # Accessing the local variable\n",
    "    print(\"Global variable:\", global_variable)  # Accessing the global variable\n",
    "\n",
    "my_function()  # Calling the function\n",
    "\n",
    "print(\"Outside the function:\")\n",
    "print(local_variable)  # Uncommenting this line would result in an error\n",
    "print(\"Global variable:\", global_variable)  # Accessing the global variable outside the function\n"
   ]
  },
  {
   "cell_type": "code",
   "execution_count": 12,
   "id": "3fd5fdfb",
   "metadata": {},
   "outputs": [
    {
     "name": "stdout",
     "output_type": "stream",
     "text": [
      "First Name: komal\n",
      "Last Name: madiwal\n"
     ]
    }
   ],
   "source": [
    "\n",
    "#9.\tCreate a function that takes a full name as an argument and returns first name and last name.\n",
    "\n",
    "def split_full_name(full_name):\n",
    "    names = full_name.split()\n",
    "    first_name = names[0]\n",
    "    last_name = names[-1] \n",
    "    return first_name, last_name\n",
    "\n",
    "\n",
    "# full_name = input(\"Enter your full name: \")\n",
    "# first_name, last_name = split_full_name(full_name)\n",
    "split_full_name(\"komal madiwal\")\n",
    "print(\"First Name:\", first_name)\n",
    "print(\"Last Name:\", last_name)\n"
   ]
  },
  {
   "cell_type": "code",
   "execution_count": null,
   "id": "0e66182a",
   "metadata": {},
   "outputs": [],
   "source": []
  }
 ],
 "metadata": {
  "kernelspec": {
   "display_name": "Python 3 (ipykernel)",
   "language": "python",
   "name": "python3"
  },
  "language_info": {
   "codemirror_mode": {
    "name": "ipython",
    "version": 3
   },
   "file_extension": ".py",
   "mimetype": "text/x-python",
   "name": "python",
   "nbconvert_exporter": "python",
   "pygments_lexer": "ipython3",
   "version": "3.11.3"
  }
 },
 "nbformat": 4,
 "nbformat_minor": 5
}
