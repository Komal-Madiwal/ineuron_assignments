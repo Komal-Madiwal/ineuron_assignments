{
 "cells": [
  {
   "cell_type": "code",
   "execution_count": null,
   "id": "8d533f77",
   "metadata": {},
   "outputs": [],
   "source": [
    "Q1. What is a lambda function in Python, and how does it differ from a regular function?\n",
    "A lambda function in Python is a small anonymous function. It is defined using the lambda keyword, followed by a parameter list, a colon, and an expression. The expression is evaluated and the result is returned.\n",
    "here is example :\n",
    "sub= lambda x, y: x - y\n",
    "result = sub(5, 2)  # result will be 8\n",
    "result\n",
    "\n",
    "\n",
    "--> difference between lambda and regular function\n",
    "1.Syntax:\n",
    "-->Lambda functions are defined using the lambda keyword, followed by arguments and an expression. They have a more concise syntax.\n",
    "-->Regular functions are defined using the def keyword, followed by a name, arguments, a colon, and a block of code indented beneath. They have a more structured and explicit syntax.\n",
    "\n",
    "here is example lambda function;\n",
    "add = lambda x, y: x + y\n",
    "here is example of regular function\n",
    "def add(x, y):\n",
    "    return x + y\n",
    "    \n",
    "2.Name:\n",
    "\n",
    "-->Lambda functions are anonymous; they don't have a name. They are typically used for short, simple operations where naming a function is unnecessary.\n",
    "-->Regular functions have names and are defined with the def keyword. They have a clear, meaningful name that describes their purpose.\n",
    "\n",
    "\n",
    "3.Inline vs. Block:\n",
    "\n",
    "--> functions are often used where they are defined, and they are typically not stored in variables for later use. They are inline and concise.\n",
    "-->Regular functions are defined with a block of code and can be reused multiple times by calling their name. They are not limited to a single line of code.\n",
    "\n",
    "4.Complexity:\n",
    "-->Lambda functions are suitable for simple operations with a single expression. They cannot contain statements or multiple lines of code.\n",
    "-->Regular functions can be as complex as needed, containing multiple statements, loops, conditionals, and more.\n",
    "\n",
    "5.Usage:\n",
    "->Lambda functions are commonly used for tasks like sorting, filtering, or mapping elements in data structures. They are often employed as arguments to higher-order functions like map, filter, and sorted.\n",
    "->Regular functions are used for more general-purpose tasks, and they are a fundamental part of structuring larger programs and organizing code into reusable components."
   ]
  },
  {
   "cell_type": "code",
   "execution_count": 1,
   "id": "74bee31d",
   "metadata": {},
   "outputs": [
    {
     "name": "stdout",
     "output_type": "stream",
     "text": [
      "The area of the rectangle with length 10 and width 7 is 70.\n"
     ]
    }
   ],
   "source": [
    " #Q2. Can a lambda function in Python have multiple arguments? If yes, how can you define and use them?\n",
    "\n",
    "#Yes, a lambda function in Python can have multiple arguments.we can use multiple arguments in a lambda function by separating them with commas and providing expressions to compute the function's result here is an example: -->\n",
    "rectangle_area = lambda length, width: length * width\n",
    "\n",
    "length = 10\n",
    "width = 7\n",
    "area = rectangle_area(length, width)\n",
    "print(f\"The area of the rectangle with length {length} and width {width} is {area}.\")\n",
    "\n",
    "\n",
    "#In this example, the lambda function rectangle_area takes two arguments, length and width, and returns their product, which represents the area of a rectangle. The lambda function is then called with specific values for length and width, and the result is printed.\n"
   ]
  },
  {
   "cell_type": "code",
   "execution_count": 13,
   "id": "726b2067",
   "metadata": {},
   "outputs": [
    {
     "data": {
      "text/plain": [
       "['Alice', 'Bob', 'Charlie']"
      ]
     },
     "execution_count": 13,
     "metadata": {},
     "output_type": "execute_result"
    }
   ],
   "source": [
    "#3. How are lambda functions typically used in Python? Provide an example use case.\n",
    "# Lambda functions in Python are typically used for short, simple operations where defining a full named function without using the def keyword. They are often used in situations where you need a small, anonymous function for a specific task, and they are particularly useful when used as arguments to higher-order functions like map, filter, and sorted. Here are some common use cases for lambda functions.\n",
    "#1. Mapping: You can use lambda functions to apply a transformation to each element in a collection. For example, if you have a list of numbers and want to square each number, you can use the map function with a lambda function:\n",
    "\n",
    "\n",
    "numbers = [1, 2, 3, 4, 5]\n",
    "squared = list(map(lambda x: x ** 2, numbers))\n",
    "squared\n",
    "\n",
    "#2.Filtering: Lambda functions can be used with the filter function to select elements from a collection that meet a certain condition. For instance, if you have a list of numbers and want to filter out the even numbers:\n",
    "\n",
    "\n",
    "numbers = [1, 2, 3, 4]\n",
    "evens = list(filter(lambda x: x % 2 == 0, numbers))\n",
    "evens\n",
    "\n",
    "#3 Calculations: Lambda functions can be used for one-off calculations or operations within your code. For instance, if you need to calculate the square root of a number in a specific context:\n",
    "\n",
    "\n",
    "sqrt = lambda x: x ** 0.5\n",
    "result = sqrt(25)  # result will be 5.0\n",
    "result\n",
    "\n",
    "#4.Sorting: You can use lambda functions to define custom sorting criteria when sorting a list of objects. For example, if you have a list of tuples and want to sort them based on the second element of each tuple:\n",
    "\n",
    "data = [(1, 5), (2, 3), (3, 7), (4, 1)]\n",
    "sorted_data = sorted(data, key=lambda x: x[1]) #ort the data list based on the second element (x[1]) of each tuple (x represents each tuple as the sorted() function processes them).\n",
    "# sorted_data will be [(4, 1), (2, 3), (1, 5), (3, 7)]\n",
    "sorted_data\n",
    "\n",
    "#5.Simple Data Transformation: Lambda functions are handy for quick data transformation tasks. For example, if you have a list of names in lowercase and want to convert them to title case:\n",
    "names = [\"alice\", \"bob\", \"charlie\"]\n",
    "title_case_names = list(map(lambda x: x.title(), names))\n",
    "# title_case_names will be [\"Alice\", \"Bob\", \"Charlie\"]\n",
    "title_case_names\n"
   ]
  },
  {
   "cell_type": "code",
   "execution_count": null,
   "id": "ab86f208",
   "metadata": {},
   "outputs": [],
   "source": [
    "\n",
    "# 4. What are the advantages and limitations of lambda functions compared to regular functions in\n",
    "# Python?\n",
    "\n",
    "# Advantages of lambda functions:\n",
    "\n",
    "# Short and concise. Lambda functions are typically much shorter than regular functions, which makes them easier to read and write.\n",
    "# Anonymous. Lambda functions do not have a name, which makes them more flexible and easier to pass around.\n",
    "# Can be used with other functions. Lambda functions can be used with other functions, such as map() and filter().\n",
    "# Can be created inline. Lambda functions can be created inline, which means they can be defined and used in the same line of code.\n",
    "\n",
    "\n",
    "#Limitations of lambda functions:\n",
    "\n",
    "# Can only have one expression. Lambda functions can only have one expression, which means they cannot be used to define functions with multiple statements or complex logic.\n",
    "# Not as flexible as regular functions. Lambda functions are not as flexible as regular functions because they cannot have a name, a docstring, or annotations.\n",
    "# Not as reusable as regular functions. Lambda functions are not as reusable as regular functions because they are anonymous and cannot be assigned to a variable. -->"
   ]
  },
  {
   "cell_type": "code",
   "execution_count": 19,
   "id": "2c053a5c",
   "metadata": {},
   "outputs": [
    {
     "name": "stdout",
     "output_type": "stream",
     "text": [
      "20\n"
     ]
    }
   ],
   "source": [
    "# 5. Are lambda functions in Python able to access variables defined outside of their own scope? Explain with an example.\n",
    "\n",
    "# We can use the nonlocal keyword to explicitly define variables that are shared between the lambda function and its enclosing scope.\n",
    "# The nonlocal keyword tells the Python interpreter that a variable is defined in the enclosing scope, not in the local scope of the lambda function. For example:\n",
    "def outer_func():\n",
    "    x = 10\n",
    "\n",
    "    def inner_func():\n",
    "        nonlocal x\n",
    "        x = 20\n",
    "\n",
    "        return x\n",
    "\n",
    "    return inner_func\n",
    "\n",
    "\n",
    "func = outer_func()\n",
    "\n",
    "print(func())\n",
    "\n",
    "\n",
    "\n",
    "\n",
    "\n",
    "# This code defines a function outer_func() that has a local variable x. It also defines a lambda function inner_func() that uses the nonlocal keyword to define x in the enclosing scope. This means that the value of x in the inner_func() lambda function is updated when the x variable in the outer scope is updated.\n",
    "\n",
    "# The nonlocal keyword is a useful way to share variables between a lambda function and its enclosing scope. However, it is important to use it carefully to avoid creating unexpected side effects.\n",
    " "
   ]
  },
  {
   "cell_type": "code",
   "execution_count": 14,
   "id": "63f7050d",
   "metadata": {},
   "outputs": [
    {
     "name": "stdout",
     "output_type": "stream",
     "text": [
      "64\n"
     ]
    }
   ],
   "source": [
    "#6. Write a lambda function to calculate the square of a given number.\n",
    "square = lambda x: x * x\n",
    "print(square(8))"
   ]
  },
  {
   "cell_type": "code",
   "execution_count": 4,
   "id": "24e00b46",
   "metadata": {},
   "outputs": [
    {
     "name": "stdout",
     "output_type": "stream",
     "text": [
      "The maximum value in the list is: 89\n"
     ]
    }
   ],
   "source": [
    "#7. Create a lambda function to find the maximum value in a list of integers \n",
    "\n",
    "numbers = [12, 45, 78, 23, 56, 89, 9]\n",
    "maximum = lambda lst: max(lst)\n",
    "max_value = maximum(numbers)\n",
    "print(f\"The maximum value in the list is: {max_value}\")\n",
    "\n"
   ]
  },
  {
   "cell_type": "code",
   "execution_count": 15,
   "id": "db146db9",
   "metadata": {},
   "outputs": [
    {
     "name": "stdout",
     "output_type": "stream",
     "text": [
      "[2, 4, 6, 8, 10]\n"
     ]
    }
   ],
   "source": [
    "#8. Implement a lambda function to filter out all the even numbers from a list of integers.\n",
    "numbers = [1, 2, 3, 4, 5, 6, 7, 8, 9, 10]\n",
    "\n",
    "# Use a lambda function with filter to get even numbers\n",
    "even_numbers = list(filter(lambda x: x % 2 == 0, numbers))\n",
    "\n",
    "print(even_numbers)\n"
   ]
  },
  {
   "cell_type": "code",
   "execution_count": 24,
   "id": "2f48da8a",
   "metadata": {},
   "outputs": [
    {
     "name": "stdout",
     "output_type": "stream",
     "text": [
      "['riya', 'arjun', 'komalmadiwal']\n"
     ]
    }
   ],
   "source": [
    "# 9. Write a lambda function to sort a list of strings in ascending order based on the length of each string.\n",
    "\n",
    "def sort_strings_by_length(strings):\n",
    "    return sorted(strings, key=lambda x: len(x))\n",
    "\n",
    "strings = [\"komalmadiwal\", \"arjun\", \"riya\"]\n",
    "\n",
    "sorted_strings = sort_strings_by_length(strings)\n",
    "\n",
    "print(sorted_strings)\n",
    "\n",
    "\n",
    "\n",
    "# def sort_strings_by_length(strings):: This defines a function named sort_strings_by_length that takes a list of strings, strings, as its argument.\n",
    "\n",
    "# return sorted(strings, key=lambda x: len(x)): Inside the function, it sorts the input strings list using the sorted() function. The key argument is a lambda function lambda x: len(x), which calculates the length of each string x. This lambda function is used to determine the sorting order based on the length of each string.\n",
    "\n",
    "# strings = [\"hello\", \"world\", \"python\"]: You have a list of strings named strings.\n",
    "\n",
    "# sorted_strings = sort_strings_by_length(strings): You call the sort_strings_by_length function with the strings list as input and store the sorted result in the sorted_strings variable.\n",
    "\n",
    "# print(sorted_strings): Finally, you print the sorted list of strings, which will be sorted in ascending order based on their length.\n"
   ]
  },
  {
   "cell_type": "code",
   "execution_count": 6,
   "id": "7869aec3",
   "metadata": {},
   "outputs": [
    {
     "name": "stdout",
     "output_type": "stream",
     "text": [
      "Common elements: [3, 4]\n"
     ]
    }
   ],
   "source": [
    "#10. Create a lambda function that takes two lists as input and returns a new list containing the common elements between the two lists.\n",
    "\n",
    "\n",
    "# Create a lambda function that finds common elements between two lists\n",
    "find_common_elements = lambda list1, list2: list(filter(lambda y: y in list1, list2))\n",
    "\n",
    "# Example lists\n",
    "list1 = [1, 2, 3, 4]\n",
    "list2 = [3, 4, 5, 6, 7]\n",
    "\n",
    "# Use the lambda function to find common elements\n",
    "common_elements = find_common_elements(list1, list2)\n",
    "\n",
    "# Print the common elements\n",
    "print(\"Common elements:\", common_elements)\n",
    "\n"
   ]
  },
  {
   "cell_type": "code",
   "execution_count": 3,
   "id": "d687c3e9",
   "metadata": {},
   "outputs": [
    {
     "data": {
      "text/plain": [
       "120"
      ]
     },
     "execution_count": 3,
     "metadata": {},
     "output_type": "execute_result"
    }
   ],
   "source": [
    "#11. Write a recursive function to calculate the factorial of a given positive integer.\n",
    "def factorial(n):\n",
    "    if n == 0:\n",
    "        return 1\n",
    "    else:\n",
    "        return n * factorial(n - 1)\n",
    "# result = factorial(4)\n",
    "# print(result)  \n",
    "factorial(5)"
   ]
  },
  {
   "cell_type": "code",
   "execution_count": 7,
   "id": "5a63c10f",
   "metadata": {},
   "outputs": [
    {
     "data": {
      "text/plain": [
       "8"
      ]
     },
     "execution_count": 7,
     "metadata": {},
     "output_type": "execute_result"
    }
   ],
   "source": [
    "#12. Implement a recursive function to compute the nth Fibonacci number\n",
    "\n",
    "def fibonacci(n):\n",
    "    if n <= 0:\n",
    "        return 0\n",
    "    elif n == 1:\n",
    "        return 1\n",
    "    else:\n",
    "        return fibonacci(n - 1) + fibonacci(n - 2)\n",
    "\n",
    "fibonacci(6)"
   ]
  },
  {
   "cell_type": "code",
   "execution_count": 10,
   "id": "403b48f4",
   "metadata": {},
   "outputs": [
    {
     "data": {
      "text/plain": [
       "21"
      ]
     },
     "execution_count": 10,
     "metadata": {},
     "output_type": "execute_result"
    }
   ],
   "source": [
    "#13. Create a recursive function to find the sum of all the elements in a given list.\n",
    "def recursive_sum(lst):\n",
    "    if not lst:  # Base case: empty list\n",
    "        return 0\n",
    "    else:\n",
    "        return lst[0] + recursive_sum(lst[1:])\n",
    "recursive_sum([1,2,3,4,5,6])\n"
   ]
  },
  {
   "cell_type": "code",
   "execution_count": 7,
   "id": "ecace8cb",
   "metadata": {},
   "outputs": [
    {
     "data": {
      "text/plain": [
       "True"
      ]
     },
     "execution_count": 7,
     "metadata": {},
     "output_type": "execute_result"
    }
   ],
   "source": [
    "\n",
    "#14. Write a recursive function to determine whether a given string is a palindrome.\n",
    "\n",
    "\n",
    "def palindrome(s):\n",
    "    # Base case: if the string has 0 or 1 characters, it's a palindrome\n",
    "    if len(s) <= 1:\n",
    "        return True\n",
    "    # Compare the first and last characters of the string\n",
    "    if s[0] != s[-1]:\n",
    "        return False\n",
    "    # Recursively check the substring without the first and last characters\n",
    "    else:\n",
    "         return palindrome(s[1:-1])\n",
    "palindrome(\"level\")"
   ]
  },
  {
   "cell_type": "code",
   "execution_count": 13,
   "id": "b279e6a6",
   "metadata": {},
   "outputs": [
    {
     "name": "stdout",
     "output_type": "stream",
     "text": [
      "The GCD of 48 and 18 is 6\n"
     ]
    }
   ],
   "source": [
    "#Q15. Implement a recursive function to find the greatest common divisor (GCD) of two positive integers\n",
    "\n",
    "def gcd_recursive(a, b):\n",
    "    if b == 0:\n",
    "        return a\n",
    "    else:\n",
    "        return gcd_recursive(b, a % b)\n",
    "num1 = 48\n",
    "num2 = 18\n",
    "result = gcd_recursive(num1, num2)\n",
    "print(f\"The GCD of {num1} and {num2} is {result}\")\n"
   ]
  }
 ],
 "metadata": {
  "kernelspec": {
   "display_name": "Python 3 (ipykernel)",
   "language": "python",
   "name": "python3"
  },
  "language_info": {
   "codemirror_mode": {
    "name": "ipython",
    "version": 3
   },
   "file_extension": ".py",
   "mimetype": "text/x-python",
   "name": "python",
   "nbconvert_exporter": "python",
   "pygments_lexer": "ipython3",
   "version": "3.11.3"
  }
 },
 "nbformat": 4,
 "nbformat_minor": 5
}
