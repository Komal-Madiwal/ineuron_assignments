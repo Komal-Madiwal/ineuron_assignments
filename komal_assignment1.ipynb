{
 "cells": [
  {
   "cell_type": "markdown",
   "id": "938bf4ae",
   "metadata": {},
   "source": [
    "#Assignment1\n",
    "1. In the below elements which of them are values or an expression? eg:- values can be integer or string and expressions will be mathematical operators.\n",
    "•* expression\n",
    "•'hello' value\n",
    "•-87.8 value\n",
    "•-  expression\n",
    "•/  expression\n",
    "•+  expression\n",
    "•6  value\n"
   ]
  },
  {
   "cell_type": "markdown",
   "id": "204c7e6e",
   "metadata": {},
   "source": [
    "2. What is the difference between string and variable?\n",
    "SR.NO.\tSTRING\tVARIABLE \n",
    "1.\tIt is a data type used to represent a sequence of characters\tIt is a named container that can hold different values, including strings.\n",
    "2\tIt is enclosed within quotation marks.\tIt does not enclose within quotation marks.\n",
    "3.\tExample = name = “ram”\n",
    "Here “ram” is a string \tName = “ram”\n",
    "Here Name is variable\n"
   ]
  },
  {
   "cell_type": "code",
   "execution_count": null,
   "id": "a7851eca",
   "metadata": {},
   "outputs": [],
   "source": [
    "3.Describe three different data types.\n",
    " Following are the three different data types: -\n",
    "1.Integer -The integer data type represents whole numbers without decimal points. It can be used to store both positive and negative numbers. It is denoted by (int).\n",
    "For example:\n",
    "•number = 67\n",
    "2.String: The string data type is used to represent sequences of characters, such as text. Strings are enclosed in either single ('') or double (\"\") quotation marks. It is denoted by (str). For example:\n",
    "•Name = “James”\n",
    "\n",
    "3.floating-point: it is used to represent decimal numbers and represented by (float)\n",
    "•number = 3.7\n",
    "\n"
   ]
  },
  {
   "cell_type": "markdown",
   "id": "53c6fc86",
   "metadata": {},
   "source": [
    "4. What is an expression made up of? What do all expressions do?\n",
    "•An expression is a combination of one or more values, variables, operators, and function calls that can be evaluated to produce a result.\n",
    "\n",
    "An expression can consist of the following components:\n",
    "\n",
    "•Values: These are constants representing specific data, such as numbers (integers or floating-point), strings, or Boolean values (True or False).\n",
    "•Variables: These are names that represent memory locations where values can be stored and retrieved during program execution.\n",
    "•Operators: These are symbols or special keywords that perform specific operations on values and variables. Examples of operators include arithmetic operators (+, -, *, /), comparison operators (>, <, ==, !=), logical operators (and, or, not), and many others.\n",
    "•Function calls: Functions are reusable blocks of code that can take input values (arguments) and return a result. When a function is called with arguments, it is evaluated, and its result can be part of an expression.\n",
    "What do all expressions do?\n",
    "Expressions in programming serve the purpose of computing and producing results. They allow us to perform various operations, calculations, comparisons, and manipulations on data. The evaluation of an expression results in a single value, which can then be used in further computations, assignments, or as part of larger statements or expressions\n"
   ]
  },
  {
   "cell_type": "code",
   "execution_count": null,
   "id": "7e6e4be5",
   "metadata": {},
   "outputs": [],
   "source": [
    "5. This assignment statements, like spam = 10. What is the difference between an expression and a statement?\n",
    "Expression \tstatement\n",
    "It is a piece of code that produces a value when evaluated. It can be a combination of operators, values, variables, and function calls.\tIt is a unit of code that performs an action or controls the flow of execution. Statements are instructions that are executed one after the other\n",
    "Expressions can be part of a statement.\tstatements cannot be part of an expression.\n",
    "Ex-a = 25          \n",
    "a = a + 20      # an expression\n",
    "print(a)\n",
    "\ta = 25          # a statement\n",
    "a = a + 20      \n",
    "print(a)\n",
    "\n"
   ]
  },
  {
   "cell_type": "code",
   "execution_count": null,
   "id": "77a0147a",
   "metadata": {},
   "outputs": [],
   "source": [
    "\n",
    "6. After running the following code, what does the variable bacon contain?\n",
    "bacon = 22\n",
    "bacon + 1\n",
    "After running the given code in Python, the variable bacon will still contain the value 22. The expression bacon + 1 evaluates to 23, but it is not stored in any variable. Therefore, the value of bacon remains unchanged. \n"
   ]
  },
  {
   "cell_type": "code",
   "execution_count": 4,
   "id": "2b50fd7e",
   "metadata": {},
   "outputs": [
    {
     "name": "stdout",
     "output_type": "stream",
     "text": [
      "spamspamspam\n",
      "spamspamspam\n"
     ]
    }
   ],
   "source": [
    "#7. What should the values of the following two terms be?\n",
    "# 'spam' + 'spamspam'\n",
    "# 'spam' * 3\n",
    "s='spam' + 'spamspam'\n",
    "s2='spam' * 3\n",
    "print(s)\n",
    "print(s2)\n",
    "\n"
   ]
  },
  {
   "cell_type": "markdown",
   "id": "5f065e41",
   "metadata": {},
   "source": [
    "8. Why is eggs a valid variable name while 100 is invalid?\n",
    " Egg is valid variable name while 100 is invalid because in python variable name should follow certain rules, one among them is variable names must start with a letter (a-z, A-Z) or an underscore (_). They cannot start with a digit.\n"
   ]
  },
  {
   "cell_type": "code",
   "execution_count": null,
   "id": "2e433340",
   "metadata": {},
   "outputs": [],
   "source": [
    "9. What three functions can be used to get the integer, floating-point number, or string version of a value?\n",
    "Following are the 3 functions:\n",
    "•\tint()\n",
    "•\tfloat()\n",
    "•\tstr()\n"
   ]
  },
  {
   "cell_type": "code",
   "execution_count": null,
   "id": "39a36dbf",
   "metadata": {},
   "outputs": [],
   "source": [
    "10. Why does this expression cause an error? How can you fix it?\n",
    "'I have eaten ' + 99 + ' burritos.'\n",
    "The expression causes an error because 99 is an integer and only strings can be concatenated to other strings with the + operator. \n",
    "The correct way is I have eaten ' + str(99) + ' burritos. ' .\n",
    "\n"
   ]
  },
  {
   "cell_type": "code",
   "execution_count": null,
   "id": "44a09d6d",
   "metadata": {},
   "outputs": [],
   "source": []
  }
 ],
 "metadata": {
  "kernelspec": {
   "display_name": "Python 3 (ipykernel)",
   "language": "python",
   "name": "python3"
  },
  "language_info": {
   "codemirror_mode": {
    "name": "ipython",
    "version": 3
   },
   "file_extension": ".py",
   "mimetype": "text/x-python",
   "name": "python",
   "nbconvert_exporter": "python",
   "pygments_lexer": "ipython3",
   "version": "3.11.3"
  }
 },
 "nbformat": 4,
 "nbformat_minor": 5
}
