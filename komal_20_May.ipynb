{
 "cells": [
  {
   "cell_type": "code",
   "execution_count": 1,
   "id": "2b09151e",
   "metadata": {},
   "outputs": [
    {
     "name": "stdout",
     "output_type": "stream",
     "text": [
      "['False', 'None', 'True', 'and', 'as', 'assert', 'async', 'await', 'break', 'class', 'continue', 'def', 'del', 'elif', 'else', 'except', 'finally', 'for', 'from', 'global', 'if', 'import', 'in', 'is', 'lambda', 'nonlocal', 'not', 'or', 'pass', 'raise', 'return', 'try', 'while', 'with', 'yield']\n"
     ]
    }
   ],
   "source": [
    "# 20 May\n",
    "# Python Basic – 1\n",
    "\n",
    "\n",
    "# Q.1.What are keywords in python? Using the keyword library, print all the python keywords.\n",
    "\n",
    "# ans•Keywords in Python are reserved words that cannot be used as a variable name, function name, or any other identifier.\n",
    "\n",
    "import keyword\n",
    "all_keyw=keyword.kwlist\n",
    "print(all_keyw)"
   ]
  },
  {
   "cell_type": "markdown",
   "id": "5d0c8a54",
   "metadata": {},
   "source": [
    "# Q.2.\tWhat are the rules to create variables in python?\n",
    "#  Following are the rules:\n",
    "# •\tVariable Name Characters: Can use letters (a-z, A-Z), digits (0-9), and underscores (_). Cannot start with a digit.\n",
    "# •\tCase Sensitivity: Python is case-sensitive, so \"myVar\" and \"myvar\" are considered different variables.\n",
    "# •\tReserved Keywords: Cannot use Python keywords (reserved words) as variable names.\n",
    "# •\tNo Spaces: Variable names cannot contain spaces. Use underscores (_) to separate words.\n",
    "# •\tAvoid Beginning with Underscore: Although allowed, it is generally recommended not to start a variable name with an underscore (_).\n",
    "# •\tAvoid Using Built-in Names: Do not use names of built-in functions, classes, or libraries as variable names to prevent conflicts and confusion.\n"
   ]
  },
  {
   "cell_type": "markdown",
   "id": "d5657bd8",
   "metadata": {},
   "source": [
    "#  Q.3. What are the standards and conventions followed for the nomenclature of variables in\n",
    "# python to improve code readability and maintainability?\n",
    "# following are the stds and conventions :\n",
    "# Naming Style: Use lowercase letters for variable names.\n",
    "#  Separate words in variable names using underscores (snake_case). For example: my_variable, user_input.\n",
    "\n",
    "\n",
    "# Descriptive Names:Choose meaningful and descriptive names for variables. A variable name should indicate its purpose or content.\n",
    "# Use full words or abbreviations that are commonly understood in the context of your code.\n",
    "\n",
    "# Avoid Single-Character Names:Except for very temporary or loop control variables, avoid using single-letter variable names like x, y, i, etc.\n",
    "# Use descriptive names that convey the purpose of the variable.\n",
    "\n",
    "# Avoid Reserved Words: Do not use Python's reserved keywords as variable names (e.g., if, while, for, def, class, etc.).\n",
    "\n",
    "# Use Plural Names for Collections:Use plural names for variables that hold collections or sequences of items. For example: students, user_list.\n",
    "\n",
    "# Constants:Use uppercase letters for constant variables.\n",
    "# Separate words in constant names using underscores (CONSTANT_NAME).\n",
    "\n",
    "# Private Variables:Prefix private variables with a single underscore (_). This indicates that the variable is intended to be used within the current module only and should not be accessed from outside.\n",
    "\n",
    "# Class Attributes:Prefix class attributes with a double underscore (__) to invoke name mangling, which makes the attribute name more unique to the class.\n",
    "\n",
    "\n",
    "# Module-Level Variables:Use lowercase letters with underscores for module-level variables. This helps distinguish them from classes and functions.\n",
    "\n",
    "# Function Arguments:Follow the same naming conventions as for variables when naming function arguments.\n",
    "\n",
    "# Avoid Ambiguous Names:Avoid using variable names that can be easily confused with built-in functions or common libraries.\n",
    "\n",
    "# Be Consistent:Maintain consistency throughout your codebase. Choose a naming convention and stick to it across all your projects.\n"
   ]
  },
  {
   "cell_type": "code",
   "execution_count": 2,
   "id": "1e0f2c0f",
   "metadata": {},
   "outputs": [
    {
     "ename": "SyntaxError",
     "evalue": "invalid syntax (610989107.py, line 3)",
     "output_type": "error",
     "traceback": [
      "\u001b[1;36m  Cell \u001b[1;32mIn[2], line 3\u001b[1;36m\u001b[0m\n\u001b[1;33m    if = 100\u001b[0m\n\u001b[1;37m       ^\u001b[0m\n\u001b[1;31mSyntaxError\u001b[0m\u001b[1;31m:\u001b[0m invalid syntax\n"
     ]
    }
   ],
   "source": [
    "# Q.4.What will happen if a keyword is used as a variable name?\n",
    "# • Python will raise a ‘SyntaxError’ and indicate that the keyword cannot be used as an identifier.\n",
    "if = 100\n",
    "print(if)"
   ]
  },
  {
   "cell_type": "markdown",
   "id": "42409385",
   "metadata": {},
   "source": [
    "# Q.5.\tFor what purpose def keyword is used?\n",
    "# The def keyword in Python is used to define a new function. Functions are blocks of code that perform a specific task and can be reused throughout a program\n"
   ]
  },
  {
   "cell_type": "markdown",
   "id": "eed26f99",
   "metadata": {},
   "source": [
    "# Q.6.What is the operation of this special character ‘\\’?\n",
    "# •The backslash character (\\) in Python is a special character called an escape character. It is used to represent special characters within strings. For example, the backslash character can be used to represent a newline character (\\n) or a tab character (\\t).\n",
    "\n"
   ]
  },
  {
   "cell_type": "markdown",
   "id": "ed2d05b5",
   "metadata": {},
   "source": [
    "# Q.7.Give an example of the following conditions:\n",
    "# (i)Homogeneous list\n",
    "# homogeneous_list = [1, 2, 3, 4, 5]\n",
    "# (ii)Heterogeneous set\n",
    "# heterogeneous_set = {1, \"apple\", 3.14}Homogeneous tuple\n",
    "# (iii)homogeneous_tuple \n",
    "# homogeneous_tuple= (\"apple\", \"banana\", \"orange\")\n"
   ]
  },
  {
   "cell_type": "code",
   "execution_count": 4,
   "id": "01c34621",
   "metadata": {},
   "outputs": [
    {
     "name": "stdout",
     "output_type": "stream",
     "text": [
      "[1, 2, 3, 5]\n"
     ]
    },
    {
     "ename": "TypeError",
     "evalue": "'tuple' object does not support item assignment",
     "output_type": "error",
     "traceback": [
      "\u001b[1;31m---------------------------------------------------------------------------\u001b[0m",
      "\u001b[1;31mTypeError\u001b[0m                                 Traceback (most recent call last)",
      "Cell \u001b[1;32mIn[4], line 23\u001b[0m\n\u001b[0;32m     20\u001b[0m my_tuple \u001b[38;5;241m=\u001b[39m (\u001b[38;5;124m\"\u001b[39m\u001b[38;5;124mHello\u001b[39m\u001b[38;5;124m\"\u001b[39m, \u001b[38;5;124m\"\u001b[39m\u001b[38;5;124mworld!\u001b[39m\u001b[38;5;124m\"\u001b[39m)\n\u001b[0;32m     22\u001b[0m \u001b[38;5;66;03m# Try to change the tuple\u001b[39;00m\n\u001b[1;32m---> 23\u001b[0m my_tuple[\u001b[38;5;241m1\u001b[39m] \u001b[38;5;241m=\u001b[39m \u001b[38;5;124m\"\u001b[39m\u001b[38;5;124mHi\u001b[39m\u001b[38;5;124m\"\u001b[39m\n",
      "\u001b[1;31mTypeError\u001b[0m: 'tuple' object does not support item assignment"
     ]
    }
   ],
   "source": [
    "# Q.8 Explain the mutable and immutable data types with proper explanation & examples.\n",
    "\n",
    "\n",
    "# •Mutable data types can be changed after they are created. This means that you can modify the value of a mutable data type without creating a new object. Examples of mutable data types in Python include lists, dictionaries, and sets.\n",
    "# •Immutable data types cannot be changed after they are created. This means that if you want to modify the value of an immutable data type, you must create a new object. Examples of immutable data types in Python include strings, numbers, and tuples.\n",
    "\n",
    "\n",
    "#example of mutable\n",
    "# Create a mutable list\n",
    "lst = [1, 2, 3]\n",
    "\n",
    "# Add an element to the list\n",
    "lst.append(5)\n",
    "\n",
    "# Print the list\n",
    "print(lst)\n",
    "\n",
    "#explanation :This code will create a mutable list and then add an element to the list here 5. The list will be modified, and the new list will be printed to the console.\n",
    "\n",
    "#example of immutable\n",
    "my_tuple = (\"Hello\", \"world!\")\n",
    "\n",
    "# Try to change the tuple\n",
    "my_tuple[1] = \"Hi\"\n",
    "\n",
    "# This will raise an error\n",
    "#explanation:This code will create an immutable tuple and then try to change the second element of the tuple. The code will raise an error because immutable data types cannot be changed.\n"
   ]
  },
  {
   "cell_type": "code",
   "execution_count": 5,
   "id": "83d4d5f1",
   "metadata": {},
   "outputs": [
    {
     "name": "stdout",
     "output_type": "stream",
     "text": [
      "*\n",
      "***\n",
      "*****\n",
      "*******\n",
      "*********\n"
     ]
    }
   ],
   "source": [
    "# Q.9. Write a code to create the given structure using only for loop.\n",
    "# *\n",
    "# ***\n",
    "# *****\n",
    "# *******\n",
    "# *********\n",
    "rows = 5\n",
    "for i in range (rows):\n",
    "    for j in range(2 * i + 1):\n",
    "        print(\"*\",end=\"\") \n",
    "    print()"
   ]
  },
  {
   "cell_type": "code",
   "execution_count": 11,
   "id": "09ea5e84",
   "metadata": {},
   "outputs": [
    {
     "name": "stdout",
     "output_type": "stream",
     "text": [
      "|||||||||\n",
      "|||||||\n",
      "|||||\n",
      "|||\n",
      "|\n"
     ]
    }
   ],
   "source": [
    "# Q.10. Write a code to create the given structure using while loop.\n",
    "# |||||||||\n",
    "# |||||||\n",
    "# |||||\n",
    "# |||\n",
    "# |\n",
    "\n",
    "rows = 5\n",
    "\n",
    "for i in range(rows, 0, -1): # starting from 5 ,stop = 0 , step in decreasing order = -1\n",
    "    print('|' * (2 * i - 1))\n"
   ]
  },
  {
   "cell_type": "code",
   "execution_count": null,
   "id": "9e751054",
   "metadata": {},
   "outputs": [],
   "source": []
  }
 ],
 "metadata": {
  "kernelspec": {
   "display_name": "Python 3 (ipykernel)",
   "language": "python",
   "name": "python3"
  },
  "language_info": {
   "codemirror_mode": {
    "name": "ipython",
    "version": 3
   },
   "file_extension": ".py",
   "mimetype": "text/x-python",
   "name": "python",
   "nbconvert_exporter": "python",
   "pygments_lexer": "ipython3",
   "version": "3.11.3"
  }
 },
 "nbformat": 4,
 "nbformat_minor": 5
}
