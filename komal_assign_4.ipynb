{
 "cells": [
  {
   "cell_type": "code",
   "execution_count": null,
   "id": "a7090cf9",
   "metadata": {},
   "outputs": [],
   "source": [
    "1.What exactly is []?\n",
    "•\tIn Python, [] is the empty list literal. It is a value that represents a list that contains no items. It can be used to create a new list, or to initialize a list variable.\n"
   ]
  },
  {
   "cell_type": "code",
   "execution_count": 2,
   "id": "dc69cb53",
   "metadata": {},
   "outputs": [
    {
     "name": "stdout",
     "output_type": "stream",
     "text": [
      "[2, 4, 'hello', 8, 10]\n"
     ]
    }
   ],
   "source": [
    "# 2. In a list of values stored in a variable called spam, how would you assign the value 'hello' as the third value? (Assume [2, 4, 6, 8, 10] are in spam.)\n",
    "# Let's pretend the spam includes the list ['a', 'b', 'c', 'd'] for the next three queries.\n",
    "spam = [2, 4, 6, 8, 10]\n",
    "spam[2] = 'hello'\n",
    "print(spam) \n"
   ]
  },
  {
   "cell_type": "code",
   "execution_count": 3,
   "id": "b82e8dab",
   "metadata": {},
   "outputs": [
    {
     "data": {
      "text/plain": [
       "8"
      ]
     },
     "execution_count": 3,
     "metadata": {},
     "output_type": "execute_result"
    }
   ],
   "source": [
    "#3. What is the value of spam[int(int('3' * 2) / 11)]?\n",
    "spam[int(int('3' * 2) / 11)]\n",
    "# '3' * 2 evaluates to the string '33'.\n",
    "# int('33') evaluates to the integer 33.\n",
    "# 33 // 11 evaluates to the integer 3.\n",
    "# int(3) evaluates to the integer 3.\n",
    "# So, the expression spam[int(int('3' * 2) / 11)] is equivalent to spam[3].\n",
    "\n",
    "# Since spam is a list of strings, spam[3] refers to the third element of the list, which is the string 'd'.\n",
    "\n",
    "# Therefore, the output of spam[int(int('3' * 2) / 11)] is 'd'."
   ]
  },
  {
   "cell_type": "code",
   "execution_count": 5,
   "id": "9de06f04",
   "metadata": {},
   "outputs": [
    {
     "name": "stdout",
     "output_type": "stream",
     "text": [
      "d\n"
     ]
    }
   ],
   "source": [
    "#4. What is the value of spam[-1]?\n",
    "spam=['a', 'b', 'c', 'd'] \n",
    "print(spam[-1])\n",
    "#ans the value of spam[-1]  d"
   ]
  },
  {
   "cell_type": "code",
   "execution_count": null,
   "id": "e47ecfa0",
   "metadata": {},
   "outputs": [],
   "source": [
    "#5. What is the value of spam[:2]?\n",
    "#in this case,the slice spam[:2] means to start at the beginning of the list (index 0) and take all elements up to, but not including, the second element (index 2).\n",
    "spam = ['a', 'b', 'c', 'd']\n",
    "\n",
    "print(spam[:2])\n",
    "\n",
    "#Let's pretend bacon has the list [3.14, 'cat,' 11, 'cat,' True] for the next three questions."
   ]
  },
  {
   "cell_type": "code",
   "execution_count": 6,
   "id": "4ad47868",
   "metadata": {},
   "outputs": [
    {
     "name": "stdout",
     "output_type": "stream",
     "text": [
      "1\n"
     ]
    }
   ],
   "source": [
    "#6. What is the value of bacon.index('cat')?\n",
    "bacon = [3.14, 'cat', 11, 'cat', True]\n",
    "\n",
    "index = bacon.index('cat')\n",
    "\n",
    "print(index)\n"
   ]
  },
  {
   "cell_type": "code",
   "execution_count": 9,
   "id": "f6431b51",
   "metadata": {},
   "outputs": [
    {
     "name": "stdout",
     "output_type": "stream",
     "text": [
      "[3.14, 'cat', 11, 'cat', True]\n",
      "[3.14, 'cat', 11, 'cat', True, 99]\n"
     ]
    }
   ],
   "source": [
    "#7. How does bacon.append(99) change the look of the list value in bacon?\n",
    "bacon = [3.14, 'cat', 11, 'cat', True]\n",
    "print(bacon)\n",
    "bacon.append(99)\n",
    "print(bacon)"
   ]
  },
  {
   "cell_type": "code",
   "execution_count": 10,
   "id": "b250705c",
   "metadata": {},
   "outputs": [
    {
     "name": "stdout",
     "output_type": "stream",
     "text": [
      "[3.14, 'cat', 11, 'cat', True]\n",
      "[3.14, 11, 'cat', True]\n"
     ]
    }
   ],
   "source": [
    "8. How does bacon.remove('cat') change the look of the list in bacon?\n",
    "bacon = [3.14, 'cat', 11, 'cat', True]\n",
    "print(bacon)\n",
    "\n",
    "bacon.remove(\"cat\")\n",
    "print(bacon)"
   ]
  },
  {
   "cell_type": "code",
   "execution_count": 1,
   "id": "8176b065",
   "metadata": {},
   "outputs": [
    {
     "name": "stdout",
     "output_type": "stream",
     "text": [
      "[1, 2, 3, 7, 5, 6]\n",
      "[1, 2, 3, 1, 2, 3, 1, 2, 3, 1, 2, 3]\n"
     ]
    }
   ],
   "source": [
    "# 9. What are the list concatenation and list replication operators?\n",
    "# 1.List Concatenation (+): The + operator is used to concatenate (combine) two or more lists into a single list. It creates a new list containing all the elements from the operands in the order they appear.\n",
    "# This operator does not modify the original lists; instead, it creates a new list with the concatenated elements.\n",
    "# Example;\n",
    "\n",
    "list1 = [1, 2, 3]\n",
    "list2 = [7, 5, 6]\n",
    "concatenated_list = list1 + list2\n",
    "print(concatenated_list)\n",
    "\n",
    "\n",
    "# 2.List Replication (*): The * operator is used to replicate a list by repeating its elements multiple times.\n",
    "# •\tIt takes an integer value on the right side of the * operator, which specifies how many times the list should be replicated.\n",
    "# •\tExample;\n",
    "my_list = [1, 2, 3]\n",
    "replicated_list = my_list * 4\n",
    "print(replicated_list)  \n"
   ]
  },
  {
   "cell_type": "code",
   "execution_count": null,
   "id": "9002fd68",
   "metadata": {},
   "outputs": [],
   "source": [
    "10. What is difference between the list methods append() and insert()?\n",
    "APPEND\n",
    "•\tAdd an element to the end of the list\n",
    "•\tMethod returns None\n",
    "•\tUse when you want to add an element to the end of the list without specifying its position\n",
    "•\tExample:\n",
    "my_list = [1, 2, 3]\n",
    "my_list.append(4)\n",
    "print(my_list) \n",
    "output-[1, 2, 3, 4]\n",
    "\n",
    "\n",
    "INSERT\n",
    "•\tAdd an element at a specific index in the list.\n",
    "•\tMethod returns the index of the element that was inserted\n",
    "•\tUse when you want to insert an element at a particular position within the list.\n",
    "•\tExample:\n",
    "my_list = [1, 2, 3]\n",
    "my_list.insert(0, 4)\n",
    "print(my_list)\n",
    "[4, 1, 2, 3]\n",
    "\n"
   ]
  },
  {
   "cell_type": "code",
   "execution_count": 12,
   "id": "8d129eaa",
   "metadata": {},
   "outputs": [
    {
     "name": "stdout",
     "output_type": "stream",
     "text": [
      "None\n",
      "[1, 2, 4, 5]\n",
      "banana\n",
      "[1, 4, 5]\n"
     ]
    }
   ],
   "source": [
    "# 11. What are the two methods for removing items from a list?\n",
    "\n",
    "\n",
    "# Following are the methods:\n",
    "# •\tremove() Method: The remove() method is used to remove the first occurrence of a specific value from the list.\n",
    "my_list = [1, 2, 4, 5,100]\n",
    "print(my_list.remove(100)) \n",
    "print(my_list)\n",
    "\n",
    "\n",
    "\n",
    "\n",
    "# •\tpop() Method: The pop() method removes an item at a specific index from the list and returns its value. If you don't provide an index, it removes and returns the last item by default.\n",
    "\n",
    "my_list = ['apple', 'banana', 'cherry']\n",
    "print(my_list.pop(1)) # Removes the item at index 1 ('banana') and assigns it to removed_item\n",
    "\n",
    "\n",
    "# •\tdel Statement: The del statement removes an item from a list based on its index. It can also delete entire slices from a list.\n",
    "my_list = [1, 2, 3, 4, 5]\n",
    "del my_list[1:3]  # Removes items at index 1 and 2 ('2' and '3')\n",
    "print(my_list)  # Output: [1, 4, 5]\n"
   ]
  },
  {
   "cell_type": "code",
   "execution_count": 8,
   "id": "f2618ef9",
   "metadata": {},
   "outputs": [
    {
     "name": "stdout",
     "output_type": "stream",
     "text": [
      "1\n",
      "e\n"
     ]
    }
   ],
   "source": [
    "#12. Describe how list values and string values are identical.\n",
    "#  List values and string values in Python are not identical; they are two distinct data types with different characteristics. However, there are some similarities and operations that can be performed on both lists and strings:\n",
    "# Sequences: Both lists and strings are sequences in Python, which means they are ordered collections of elements.\n",
    "# Indexing: You can access individual elements of both lists and strings using index notation. For example: -->\n",
    "my_list = [1,2,7,77]\n",
    "my_string = \"Hello\"\n",
    "\n",
    "print(my_list[0])  # Access the first element of the list\n",
    "print(my_string[1])  # Access the second character of the string\n",
    "\n",
    "#Slicing: Both lists and strings support slicing to extract a portion of the sequence. For example:\n",
    "my_list = [1, 2, 3, 4, 5]\n",
    "my_string = \"Python\"\n",
    "\n",
    "list_slice = my_list[1:4]  # Slice the list from index 1 to 3 (excluding 4)\n",
    "string_slice = my_string[1:4]  # Slice the string from index 1 to 3 (excluding 4)\n",
    "\n",
    "\n",
    "#Concatenation: You can concatenate (combine) two lists or two strings using the + operator.\n",
    "list1 = [1, 2]\n",
    "list2 = [3, 4]\n",
    "combined_list = list1 + list2  # Concatenate two lists\n",
    "\n",
    "str1 = \"Hello, \"\n",
    "str2 = \"world!\"\n",
    "combined_string = str1 + str2  # Concatenate two strings\n"
   ]
  },
  {
   "cell_type": "code",
   "execution_count": null,
   "id": "29ac4260",
   "metadata": {},
   "outputs": [],
   "source": [
    "13. What's the difference between tuples and lists?\n",
    "\n",
    "LIST\n",
    "•\tMutable: Elements can be changed, added, or removed after creation.\n",
    "•\tDenoted by square brackets [].\n",
    "•\tmy_list = [1, 2, 3]\n",
    "•\tWhen you need to be able to change the contents of a collection\n",
    "\n",
    "\n",
    "TUPLE\n",
    "•\tImmutable: Elements cannot be changed, added, or removed after creation.\n",
    "•\tDenoted by parentheses ().\n",
    "•\tmy_tuple = (1, 2, 3)\n",
    "•\tWhen you need to save memory or improve performance\n",
    "\n",
    "\n"
   ]
  },
  {
   "cell_type": "code",
   "execution_count": 2,
   "id": "693b129c",
   "metadata": {},
   "outputs": [
    {
     "name": "stdout",
     "output_type": "stream",
     "text": [
      "(42,)\n",
      "<class 'tuple'>\n",
      "-----------------------------------\n",
      "42\n",
      "<class 'int'>\n"
     ]
    }
   ],
   "source": [
    "#14. How do you type a tuple value that only contains the integer 42?\n",
    "\n",
    "my_tuple = (42,)\n",
    "print(my_tuple)\n",
    "print(type(my_tuple))\n",
    "\n",
    "print(\"-----------------------------------\")\n",
    "\n",
    "\n",
    "not_tuple = (42)\n",
    "print(not_tuple)\n",
    "print(type(not_tuple))\n"
   ]
  },
  {
   "cell_type": "code",
   "execution_count": 3,
   "id": "adbd4519",
   "metadata": {},
   "outputs": [
    {
     "name": "stdout",
     "output_type": "stream",
     "text": [
      "list: [1, 2, 3, 4]\n",
      "tuple: (1, 2, 3, 4)\n",
      "-----------------------------\n",
      "tuple: (1, 45, 67)\n",
      "list: [1, 45, 67]\n"
     ]
    }
   ],
   "source": [
    "#15. How do you get a list value's tuple form? How do you get a tuple value's list form?\n",
    "#list to tuple\n",
    "my_list = [1,2,3,4]\n",
    "print(\"list:\" ,my_list)\n",
    "my_tuple = (tuple(my_list))\n",
    "print(\"tuple:\" ,my_tuple)\n",
    "\n",
    "\n",
    "print(\"-----------------------------\")\n",
    "\n",
    "#tuple to list\n",
    "my_tuple = (1,45,67)\n",
    "print(\"tuple:\" , my_tuple)\n",
    "my_list = (list(my_tuple))\n",
    "print(\"list:\" , my_list)\n"
   ]
  },
  {
   "cell_type": "code",
   "execution_count": 5,
   "id": "2fba2f78",
   "metadata": {},
   "outputs": [
    {
     "name": "stdout",
     "output_type": "stream",
     "text": [
      "[10, 2, 3, 4]\n",
      "[10, 2, 3, 4]\n"
     ]
    }
   ],
   "source": [
    "# 16. Variables that \"contain\" list values are not necessarily lists themselves. Instead, what do they contain?\n",
    "# Variables that \"contain\" list values in Python do not contain lists themselves. Instead, they contain references to lists. This means that the variable is not the actual list, but rather a pointer to the location of the list in memory. -->\n",
    "# here is an example:\n",
    "list_of_numbers = [1, 2, 3, 4]\n",
    "\n",
    "variable_list = list_of_numbers\n",
    "# In this code, the variable list_of_numbers is a list that contains the numbers 1, 2, 3,and 4. The variable variable_list is a new variable that is assigned the reference to the list list_of_numbers.\n",
    "\n",
    "# This means that the variable variable_list does not actually contain the list itself. Instead, it contains a pointer to the location of the list in memory. If we change the value of the list list_of_numbers, the value of the variable variable_list will also change, because they both refer to the same location in memory.\n",
    "\n",
    "list_of_numbers[0] = 10\n",
    "\n",
    "print(list_of_numbers)\n",
    "# [10, 2, 3, 4]\n",
    "\n",
    "print(variable_list)\n",
    "# [10, 2, 3, 4]\n",
    "\n",
    "#In this code, we change the first element of the list list_of_numbers to 10. This also changes the value of the variable variable_list, because they both refer to the same list."
   ]
  },
  {
   "cell_type": "code",
   "execution_count": null,
   "id": "94684327",
   "metadata": {},
   "outputs": [],
   "source": [
    "#17. How do you distinguish between copy.copy() and copy.deepcopy()?\n",
    "\n",
    "\n",
    "# copy (Shallow Copy): The copy function creates a new object that is a shallow copy of the original object. This means that it creates a new object, but it does not create copies of objects contained within the original object. Instead, it references those objects. Changes made to nested objects inside the copied object will be reflected in the original object and vice versa.\n",
    "# deepcopy (Deep Copy): The deepcopy function creates a completely independent copy of the original object, including all objects contained within it, recursively. It creates a new object hierarchy that is entirely separate from the original. Changes made to the copied object or its nested objects will not affect the original object, and vice versa.\n",
    "# Here are examples:\n",
    "import copy\n",
    "\n",
    "# Original list with nested lists\n",
    "original_list = [1, [2, 3], [4, 5]]\n",
    "\n",
    "# Shallow copy using copy.copy\n",
    "shallow_copied_list = copy.copy(original_list)\n",
    "\n",
    "# Deep copy using copy.deepcopy\n",
    "deep_copied_list = copy.deepcopy(original_list)\n",
    "\n",
    "# Modify the nested list in the copied objects\n",
    "shallow_copied_list[1].append(6)\n",
    "deep_copied_list[2].append(7)\n",
    "\n",
    "# Print the original and copied lists\n",
    "print(\"Original List:\", original_list)\n",
    "print(\"Shallow Copy:\", shallow_copied_list)\n",
    "print(\"Deep Copy:\", deep_copied_list)\n",
    "\n",
    "\n",
    "\n"
   ]
  },
  {
   "cell_type": "code",
   "execution_count": null,
   "id": "460dfaa3",
   "metadata": {},
   "outputs": [],
   "source": []
  }
 ],
 "metadata": {
  "kernelspec": {
   "display_name": "Python 3 (ipykernel)",
   "language": "python",
   "name": "python3"
  },
  "language_info": {
   "codemirror_mode": {
    "name": "ipython",
    "version": 3
   },
   "file_extension": ".py",
   "mimetype": "text/x-python",
   "name": "python",
   "nbconvert_exporter": "python",
   "pygments_lexer": "ipython3",
   "version": "3.11.3"
  }
 },
 "nbformat": 4,
 "nbformat_minor": 5
}
