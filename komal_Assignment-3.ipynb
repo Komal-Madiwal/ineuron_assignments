{
 "cells": [
  {
   "cell_type": "markdown",
   "id": "481083d6",
   "metadata": {},
   "source": [
    "Assignment-3\n",
    "# 1. Why are functions advantageous to have in your programs?\n",
    "# •functions can make your programs more readable, maintainable, efficient, and reusable.\n"
   ]
  },
  {
   "cell_type": "markdown",
   "id": "71c061cd",
   "metadata": {},
   "source": [
    "# 2. When does the code in a function run: when it's specified or when it's called?\n",
    "# •The code in a function does not run when it is specified. It only runs when it is called.\n",
    "\n"
   ]
  },
  {
   "cell_type": "markdown",
   "id": "a419c8f5",
   "metadata": {},
   "source": [
    "# 3. What statement creates a function?\n",
    "# •The def statement create a function\n"
   ]
  },
  {
   "cell_type": "code",
   "execution_count": null,
   "id": "2f3e569e",
   "metadata": {},
   "outputs": [],
   "source": [
    "4. What is the difference between a function and a function call?\n",
    "•Function: A function is a block of code that performs a specific task or set of tasks.\n",
    "•Function Call: A function call is an action or statement that instructs the program to execute a specific function.\n",
    "•For example:\n",
    " def is_even(number): #function\n",
    "    return number % 2 == 0\n",
    "print (is_even (4)) # function calling\n",
    "print (is_even (7)) # function calling\n"
   ]
  },
  {
   "cell_type": "markdown",
   "id": "5b730413",
   "metadata": {},
   "source": [
    "# 5. How many global scopes are there in a Python program? How many local scopes?\n",
    "# In a Python program, there is one global scope and potentially multiple local scopes."
   ]
  },
  {
   "cell_type": "code",
   "execution_count": 6,
   "id": "6238a5b8",
   "metadata": {},
   "outputs": [
    {
     "name": "stdout",
     "output_type": "stream",
     "text": [
      "Inside the function: 10\n"
     ]
    },
    {
     "ename": "NameError",
     "evalue": "name 'local_variable' is not defined",
     "output_type": "error",
     "traceback": [
      "\u001b[1;31m---------------------------------------------------------------------------\u001b[0m",
      "\u001b[1;31mNameError\u001b[0m                                 Traceback (most recent call last)",
      "Cell \u001b[1;32mIn[6], line 13\u001b[0m\n\u001b[0;32m      9\u001b[0m example_function()  \u001b[38;5;66;03m# Call the function\u001b[39;00m\n\u001b[0;32m     11\u001b[0m \u001b[38;5;66;03m# After the function call returns, the local_variable no longer exists.\u001b[39;00m\n\u001b[0;32m     12\u001b[0m \u001b[38;5;66;03m# The following line would result in a NameError because local_variable is not accessible here.\u001b[39;00m\n\u001b[1;32m---> 13\u001b[0m \u001b[38;5;28mprint\u001b[39m(\u001b[38;5;124m\"\u001b[39m\u001b[38;5;124mOutside the function:\u001b[39m\u001b[38;5;124m\"\u001b[39m, local_variable)\n",
      "\u001b[1;31mNameError\u001b[0m: name 'local_variable' is not defined"
     ]
    }
   ],
   "source": [
    "#6. What happens to variables in a local scope when the function call returns?\n",
    "# •When a function is called in Python, a local scope is created specifically for that function. Any variables defined within that function's code are stored in this local scope. When the function call returns (i.e., when the function finishes executing), this local scope is destroyed, and the variables within it are no longer accessible.\n",
    "# •For example, \n",
    "\n",
    "def example_function():\n",
    "    local_variable = 10\n",
    "    print(\"Inside the function:\", local_variable)\n",
    "\n",
    "example_function()  # Call the function\n",
    "\n",
    "# After the function call returns, the local_variable no longer exists.\n",
    "# The following line would result in a NameError because local_variable is not accessible here.\n",
    "print(\"Outside the function:\", local_variable)\n",
    "\n",
    "\n",
    "#•In this example, local_variable is defined within the local scope of the example_function function. Once the function call returns, the local scope is destroyed, and the variable local_variable is no longer accessible. Trying to access it outside the function results in a NameError.\n"
   ]
  },
  {
   "cell_type": "markdown",
   "id": "88e4a096",
   "metadata": {},
   "source": [
    "# 7. What is the concept of a return value? Is it possible to have a return value in an expression?\n",
    "# •return value is the value that a function returns to the caller. The return value can be any type of Python object, including numbers, strings, lists, dictionaries, and functions. The return value of a function is specified using the return statement. \n"
   ]
  },
  {
   "cell_type": "code",
   "execution_count": 2,
   "id": "4f0bc3fd",
   "metadata": {},
   "outputs": [
    {
     "name": "stdout",
     "output_type": "stream",
     "text": [
      "Hello, Alice!\n",
      "None\n"
     ]
    }
   ],
   "source": [
    "# 8. If a function does not have a return statement, what is the return value of a call to that function?\n",
    "# In Python, if a function does not have a return statement, the function will automatically return a special value called None. None is a built-in object in Python that represents the absence of a value.\n",
    "\n",
    " #example :\n",
    "def greet(name):\n",
    "    \n",
    "    print(f\"Hello, {name}!\")\n",
    "\n",
    "result = greet(\"Alice\")\n",
    "print(result) \n"
   ]
  },
  {
   "cell_type": "code",
   "execution_count": null,
   "id": "e53a7888",
   "metadata": {},
   "outputs": [],
   "source": [
    "# 9. How do you make a function variable refer to the global variable?\n",
    "# •To make a function variable refer to the global variable, you can use the global keyword. The global keyword tells Python that the variable is defined in the global scope, not in the local scope of the function. This allows you to indicate that a variable inside the function should refer to the global variable with the same name.\n",
    "\n",
    "# •Following is the example;\n",
    "global_variable = 1  # This is a global variable\n",
    "\n",
    "def update_global():\n",
    "    global global_variable  # you want to use the global variable within the function\n",
    "    global_variable = 100    # Modify the global variable\n",
    "\n",
    "update_global()  # Call the function to update the global variable\n",
    "print(global_variable)  # This will now print 20\n"
   ]
  },
  {
   "cell_type": "code",
   "execution_count": 3,
   "id": "4491dd39",
   "metadata": {},
   "outputs": [
    {
     "name": "stdout",
     "output_type": "stream",
     "text": [
      "<class 'NoneType'>\n"
     ]
    }
   ],
   "source": [
    "#10. What is the data type of None?\n",
    "result = None\n",
    "print(type(result))  \n"
   ]
  },
  {
   "cell_type": "markdown",
   "id": "216a0d86",
   "metadata": {},
   "source": [
    "# 11. What does the sentence import areallyourpetsnamederic do?\n",
    "# •The sentence \"import areallyourpetsnamederic\" is not a standard or built-in Python module or package. If you try to\n",
    "# execute that line of code in a Python interpreter or script, it will result in an ImportError because there is no module named \n",
    "# areallyourpetsnamederic available in the Python standard library .\n",
    "\n"
   ]
  },
  {
   "cell_type": "code",
   "execution_count": null,
   "id": "78b5dbeb",
   "metadata": {},
   "outputs": [],
   "source": [
    "12. If you had a bacon() feature in a spam module, what would you call it after importing spam?\n",
    "After importing the spam module, can access the bacon() feature using the dot notation\n",
    "example:\n",
    "import spam\n",
    "\n",
    "spam.bacon()\n",
    "In this example, we assume that the spam module contains a function named bacon(). By using the dot notation spam.bacon(), we are specifying that we want to call the bacon() function from the spam module.\n",
    "\n",
    "\n"
   ]
  },
  {
   "cell_type": "code",
   "execution_count": 11,
   "id": "aa77f65f",
   "metadata": {},
   "outputs": [
    {
     "name": "stdout",
     "output_type": "stream",
     "text": [
      "Error: Division by zero\n"
     ]
    }
   ],
   "source": [
    "# 13.What can you do to save a programme from crashing if it encounters an error?\n",
    "\n",
    "# •To prevent a program from crashing when it encounters an error, you can use error handling techniques. Python provides a built-in way to handle exceptions using try-except blocks.\n",
    "# for example:\n",
    "try:\n",
    "    # Code that might cause an error\n",
    "    result = 10 / 0  # This will raise a ZeroDivisionError\n",
    "except ZeroDivisionError:\n",
    "    print(\"Error: Division by zero\")\n",
    "else:\n",
    "    print(\"No error occurred\")\n"
   ]
  },
  {
   "cell_type": "markdown",
   "id": "925fcd4a",
   "metadata": {},
   "source": [
    "14. What is the purpose of the try clause? What is the purpose of the except clause?\n",
    "•\tPurpose of the try Clause:\n",
    "The try clause is used to enclose a block of code that might raise exceptions. The purpose of the try clause is to attempt the execution of this code and monitor for any exceptions that might be raised. If an exception occurs within the try block, the execution of the try block is immediately stopped, and the program flow moves to the corresponding except block (if one is provided).\n",
    "\n",
    "•\tPurpose of the except Clause:\n",
    "The except clause is used to define a block of code that should be executed when a specific type of exception occurs within the corresponding try block. This block of code is a way to handle the exceptional situation, provide feedback to the user, log information, or take any necessary corrective action.\n",
    "\n",
    "The primary purpose of the except clause is to prevent the program from crashing when an exception occurs. Instead of letting the exception propagate up and potentially halt the program, you can catch the exception, handle it, and allow the program to continue running.\n"
   ]
  }
 ],
 "metadata": {
  "kernelspec": {
   "display_name": "Python 3 (ipykernel)",
   "language": "python",
   "name": "python3"
  },
  "language_info": {
   "codemirror_mode": {
    "name": "ipython",
    "version": 3
   },
   "file_extension": ".py",
   "mimetype": "text/x-python",
   "name": "python",
   "nbconvert_exporter": "python",
   "pygments_lexer": "ipython3",
   "version": "3.11.3"
  }
 },
 "nbformat": 4,
 "nbformat_minor": 5
}
