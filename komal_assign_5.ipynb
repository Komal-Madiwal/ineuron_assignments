{
 "cells": [
  {
   "cell_type": "code",
   "execution_count": 10,
   "id": "c9bd99d3",
   "metadata": {},
   "outputs": [
    {
     "name": "stdout",
     "output_type": "stream",
     "text": [
      "{}\n"
     ]
    }
   ],
   "source": [
    "# 1. What does an empty dictionary's code look like?\n",
    "# empty dict code look like this:\n",
    "dictionary = dict()\n",
    "print(dictionary)\n",
    "\n"
   ]
  },
  {
   "cell_type": "code",
   "execution_count": 2,
   "id": "615a80aa",
   "metadata": {},
   "outputs": [
    {
     "name": "stdout",
     "output_type": "stream",
     "text": [
      "value of key foo is : 42\n"
     ]
    }
   ],
   "source": [
    "# 2. What is the value of a dictionary value with the key 'foo' and the value 42?\n",
    "# •Value of a dictionary value with the key 'foo' and the value 42\n",
    "d = {\"foo\":42}\n",
    "value_of_foo = d['foo']\n",
    "print(\"value of key foo is :\",value_of_foo)\n",
    "\n"
   ]
  },
  {
   "cell_type": "markdown",
   "id": "dbebb69d",
   "metadata": {},
   "source": [
    "3. What is the most significant distinction between a dictionary and a list?\n",
    "•List are ordered collections of elements, and these elements are accessed by their index position which is integer starting from 0. it is represented by [].and duplicate values are also allowed.\n",
    "•On the other hand, dictionary is unordered collections of keys and values and here values are accessed using unique keys. It is denoted with {}.and duplicate values are not allowed.\n"
   ]
  },
  {
   "cell_type": "code",
   "execution_count": 3,
   "id": "3f664b8c",
   "metadata": {},
   "outputs": [
    {
     "ename": "KeyError",
     "evalue": "'foo'",
     "output_type": "error",
     "traceback": [
      "\u001b[1;31m---------------------------------------------------------------------------\u001b[0m",
      "\u001b[1;31mKeyError\u001b[0m                                  Traceback (most recent call last)",
      "Cell \u001b[1;32mIn[3], line 3\u001b[0m\n\u001b[0;32m      1\u001b[0m \u001b[38;5;66;03m# 4. What happens if you try to access spam['foo'] if spam is {'bar': 100}\u001b[39;00m\n\u001b[0;32m      2\u001b[0m spam \u001b[38;5;241m=\u001b[39m {\u001b[38;5;124m\"\u001b[39m\u001b[38;5;124mbar\u001b[39m\u001b[38;5;124m\"\u001b[39m:\u001b[38;5;241m100\u001b[39m}\n\u001b[1;32m----> 3\u001b[0m \u001b[38;5;28mprint\u001b[39m(spam[\u001b[38;5;124m\"\u001b[39m\u001b[38;5;124mfoo\u001b[39m\u001b[38;5;124m\"\u001b[39m])\n",
      "\u001b[1;31mKeyError\u001b[0m: 'foo'"
     ]
    }
   ],
   "source": [
    "# 4. What happens if you try to access spam['foo'] if spam is {'bar': 100}\n",
    "spam = {\"bar\":100}\n",
    "print(spam[\"foo\"])\n",
    "\n",
    "\n",
    "# •\tThe code spam[‘foo’] will raise KeyError because the key ‘foo’ is not present in the dictionary spam.\n"
   ]
  },
  {
   "cell_type": "code",
   "execution_count": 5,
   "id": "a19db68d",
   "metadata": {},
   "outputs": [
    {
     "name": "stdout",
     "output_type": "stream",
     "text": [
      "True\n",
      "True\n"
     ]
    }
   ],
   "source": [
    "#5.If a dictionary is stored in spam, what is the difference between the expressions 'cat' in spam and 'cat' in spam.keys()?\n",
    "# •Difference between the expressions 'cat' in spam and 'cat' in spam.keys() is that :\n",
    "# 1'cat' in spam: Checks if the string 'cat' is present anywhere in the dictionary, as a key or as a value\n",
    "# 2'cat' in spam.keys() :Only checks if the string 'cat' is present as a key in the dictionary.\n",
    "\n",
    "spam = {'cat': 'meow', 'tiger': 'Roar'}\n",
    "\n",
    "# Using 'in' directly on the dictionary\n",
    "print('cat' in spam)  # Output: True\n",
    "\n",
    "# Using 'in' on the keys() method\n",
    "print('cat' in spam.keys())  # Output: True\n"
   ]
  },
  {
   "cell_type": "code",
   "execution_count": 12,
   "id": "1c12e031",
   "metadata": {},
   "outputs": [
    {
     "name": "stdout",
     "output_type": "stream",
     "text": [
      "True\n",
      "False\n"
     ]
    }
   ],
   "source": [
    "# 6.If a dictionary is stored in spam, what is the difference between the expressions 'cat' in spam and 'cat' in spam.values()?\n",
    "\n",
    "# •'cat' in spam : Checks if the string 'cat' is present anywhere in the dictionary, as a key or as a value.\n",
    "# •'cat' in spam.values(): Only checks if the string 'cat' is present as a value in the dictionary.\n",
    "    \n",
    "spam = {'cat': 'meow', 'tiger': 'Roar'}\n",
    "\n",
    "# Using 'in' directly on the dictionary\n",
    "print('cat' in spam)  # Output: True\n",
    "\n",
    "# Using 'in' on the values() method\n",
    "print('cat' in spam.values())  # false ,checking if the string 'cat' exists as a value in any of the values of the dictionary spam. However, the value 'cat' does not exist in the values of the dictionary.\n",
    "#therefore output is false\n",
    "\n",
    "\n",
    "\n"
   ]
  },
  {
   "cell_type": "code",
   "execution_count": 9,
   "id": "2bfeee9c",
   "metadata": {},
   "outputs": [
    {
     "name": "stdout",
     "output_type": "stream",
     "text": [
      "{'animal': 'cat', 'city': 'delhi', 'name': 'snowbell', 'color': 'black'}\n"
     ]
    }
   ],
   "source": [
    "# 7. What is a shortcut for the following code?\n",
    "# if 'color' not in spam:\n",
    "# spam['color'] = 'black'\n",
    "\n",
    "\n",
    "spam = {'animal': 'cat', 'city': 'delhi', 'name': 'snowbell'}\n",
    "spam.setdefault('color', 'black')\n",
    "print(spam)\n",
    "# setdefault('color', 'black'): This method checks if the key 'color' is present in the dictionary spam. If it's not present, it adds the key 'color' with the default value 'black'. -->"
   ]
  },
  {
   "cell_type": "markdown",
   "id": "67030dc7",
   "metadata": {},
   "source": [
    "8. How do you \"pretty print\" dictionary values using which module and function?\n",
    "To \"pretty print\" dictionary values in Python, you can use the pprint module and the pprint() function. The pprint module provides a way to print arbitrary Python data structures in a more readable format. The pprint() function takes an object as input and returns a string representation of the object with appropriate indentation and line breaks.\n"
   ]
  }
 ],
 "metadata": {
  "kernelspec": {
   "display_name": "Python 3 (ipykernel)",
   "language": "python",
   "name": "python3"
  },
  "language_info": {
   "codemirror_mode": {
    "name": "ipython",
    "version": 3
   },
   "file_extension": ".py",
   "mimetype": "text/x-python",
   "name": "python",
   "nbconvert_exporter": "python",
   "pygments_lexer": "ipython3",
   "version": "3.11.3"
  }
 },
 "nbformat": 4,
 "nbformat_minor": 5
}
