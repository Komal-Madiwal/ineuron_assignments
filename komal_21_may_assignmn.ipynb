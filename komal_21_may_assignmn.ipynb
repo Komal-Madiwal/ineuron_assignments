{
 "cells": [
  {
   "cell_type": "markdown",
   "id": "eb0fe051",
   "metadata": {},
   "source": [
    "# 21 May\n",
    "# Python Basic - 2\n",
    "\n",
    "# Q.1.\tCreate two int type variables, apply addition, subtraction, division and multiplications and store the results in variables. Then print the data in the following format by calling the variables:\n",
    "\n",
    "# First variable is\t\t& second variable is     . Addition:\t+\t=  \t\n",
    "# Subtraction:\t\t-\t\t\t=\t\t\t\t Multiplication:\t\t\t*\t\t\t=\t\t Division:\t/\t\t=  \t\t\n",
    "\n",
    "\n",
    "num1 = 10\n",
    "num2 = 20\n",
    "\n",
    "addition_result = num1 + num2\n",
    "subtraction_result = num1 - num2\n",
    "multiplication_result = num1 * num2\n",
    "division_result = num1 / num2\n",
    "\n",
    "print(f\"First variable is:{num1}& second variable:{num2}.\")\n",
    "print(f\"Addition\\t=\\t{addition_result}\")\n",
    "print(f\"Subtraction\\t=\\t{subtraction_result}\")\n",
    "print(f\"Multiplication\\t=\\t{multiplication_result}\")\n",
    "print(f\"Division\\t=\\t{division_result}\")\n",
    "\n"
   ]
  },
  {
   "cell_type": "code",
   "execution_count": null,
   "id": "f2242f82",
   "metadata": {},
   "outputs": [],
   "source": [
    "#Q.2.\tWhat is the difference between the following operators:\n",
    "# (i)\t‘/’ & ‘//’\n",
    "# (ii)\t‘**’ & ‘^’\n",
    "# The / operator performs regular division, which means that the result of the division is a floating-point number.\n",
    "# The // operator performs floor division, which means that the result of the division is an integer, and any decimal part is discarded.\n",
    "\n",
    "print(3 / 2)\n",
    "print(3 // 2)\n",
    "\n",
    "print(\"-------------------------------------------------\")\n",
    "# The ** operator performs exponentiation, which means that the first operand is raised to the power of the second operand.\n",
    "# The '^' operator is the bitwise XOR operator in Python. It is used for bitwise exclusive OR (XOR) operation between two integers. It returns a new integer where each bit is the result of applying the XOR operation on the corresponding bits of the two operands.\n",
    "# The XOR operation works as follows:\n",
    "\n",
    "# If both corresponding bits are the same (either both 0 or both 1), the result bit will be 0.\n",
    "# If the corresponding bits are different (one is 0 and the other is 1), the result bit will be 1.\n",
    "\n",
    "\n",
    "result = 2 ** 3\n",
    "print(result) \n",
    "\n",
    "\n",
    "result = 5 ^ 3\n",
    "print(result)  # Output: 6 (binary: 0101 ^ 0011 = 0110)\n",
    "\n"
   ]
  },
  {
   "cell_type": "code",
   "execution_count": null,
   "id": "28b5f14c",
   "metadata": {},
   "outputs": [],
   "source": [
    "# Q.3.\tList the logical operators.\n",
    "\n",
    "#following are the list of logical operatord\n",
    "#AND (&& or and): This operator returns true if both operands are true; otherwise, it returns false.\n",
    "\n",
    "#OR (|| or or): This operator returns true if at least one of the operands is true; if both operands are false, it returns false.\n",
    "\n",
    "#NOT (! or not): This operator is used to negate a boolean value. It returns true if the operand is false and false if the operand is true."
   ]
  },
  {
   "cell_type": "code",
   "execution_count": null,
   "id": "df30b892",
   "metadata": {},
   "outputs": [],
   "source": [
    "#Q.4.\tExplain right shift operator and left shift operator with examples."
   ]
  },
  {
   "cell_type": "code",
   "execution_count": 14,
   "id": "2388c4dc",
   "metadata": {},
   "outputs": [
    {
     "name": "stdout",
     "output_type": "stream",
     "text": [
      "15\n",
      "10 is present in the list.\n"
     ]
    }
   ],
   "source": [
    "#.5.\tCreate a list containing int type data of length 15. Then write a code to check if 10 is present in the list or not.\n",
    "\n",
    "\n",
    "my_list =[1,3,4,3,4,9,6,5,7,8,9,10,4,3]\n",
    "print(len(lst))\n",
    "\n",
    "if 10 in my_list:\n",
    "    print(\"10 is present in the list.\")\n",
    "else:\n",
    "    print(\"10 is not present in the list.\")"
   ]
  },
  {
   "cell_type": "code",
   "execution_count": null,
   "id": "f8e1b79c",
   "metadata": {},
   "outputs": [],
   "source": []
  },
  {
   "cell_type": "code",
   "execution_count": null,
   "id": "b3c19bf7",
   "metadata": {},
   "outputs": [],
   "source": []
  },
  {
   "cell_type": "code",
   "execution_count": null,
   "id": "a97f15fd",
   "metadata": {},
   "outputs": [],
   "source": []
  }
 ],
 "metadata": {
  "kernelspec": {
   "display_name": "Python 3 (ipykernel)",
   "language": "python",
   "name": "python3"
  },
  "language_info": {
   "codemirror_mode": {
    "name": "ipython",
    "version": 3
   },
   "file_extension": ".py",
   "mimetype": "text/x-python",
   "name": "python",
   "nbconvert_exporter": "python",
   "pygments_lexer": "ipython3",
   "version": "3.11.3"
  }
 },
 "nbformat": 4,
 "nbformat_minor": 5
}
