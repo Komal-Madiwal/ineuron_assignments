{
 "cells": [
  {
   "cell_type": "markdown",
   "id": "7fee4a33",
   "metadata": {},
   "source": [
    "Assignment-2\n",
    "1.What are the two values of the Boolean data type? How do you write them?\n",
    "•\tTwo values of Boolean data type are True and False \n",
    "•\tTo write the value True, keyword \"True\" (without quotes) with the first letter capitalized is used and to write the value False, keyword \"False\" (without quotes) with the first letter capitalized  is used.\n"
   ]
  },
  {
   "cell_type": "code",
   "execution_count": 1,
   "id": "0fb14609",
   "metadata": {},
   "outputs": [
    {
     "name": "stdout",
     "output_type": "stream",
     "text": [
      "True\n",
      "False\n",
      "False\n",
      "True\n",
      "True\n",
      "False\n",
      "True\n",
      "False\n"
     ]
    }
   ],
   "source": [
    "# 2. What are the three different types of Boolean operators?\n",
    "# •AND Operator: The AND operator returns True if both operands are True, and False otherwise. In Python, the AND operator is represented by the keyword \"and.\" For example:\n",
    "a = True\n",
    "b = True\n",
    "print(a and b)\n",
    "\n",
    "a = True\n",
    "b = False\n",
    "print(a and b)\n",
    "\n",
    "a = False\n",
    "b = False\n",
    "print(a and b)\n",
    "\n",
    "#•OR Operator: The OR operator returns True if at least one of the operands is True, and False otherwise. In Python, the OR operator is represented by the keyword \"or.\" For example\n",
    "a = True\n",
    "b = True\n",
    "print(a or b)\n",
    "\n",
    "a = True\n",
    "b = False\n",
    "print(a or b)\n",
    "\n",
    "a = False\n",
    "b = False\n",
    "print(a or b)\n",
    "#•NOT Operator: The NOT operator negates the Boolean value, i.e., it returns True if the operand is False and False if the operand is True. In Python, the NOT operator is represented by the keyword \"not.\" For example:\n",
    "a = False\n",
    "print( not a)\n",
    "\n",
    "b = True\n",
    "print( not b)"
   ]
  },
  {
   "cell_type": "markdown",
   "id": "794fe1aa",
   "metadata": {},
   "source": [
    "3. Make a list of each Boolean operator's truth tables (i.e. every possible combination of Boolean values for the operator and what it evaluate ).\n",
    "“AND”\n",
    "Operand1\tOperand2\tResult\n",
    "False\tFalse\tFalse\n",
    "True \tTrue \tTrue\n",
    "False \tTrue\tFalse\n",
    "True\tFalse\tFalse\n",
    "\n",
    "“OR”\n",
    "\n",
    "Operand1\tOperand2\tResult\n",
    "False\tFalse\tFalse\n",
    "True \tTrue \tTrue\n",
    "False \tTrue\tTrue\n",
    "True\tFalse\tTrue\n",
    "\n",
    "\n",
    "\n",
    "\n",
    "“NOT”\n",
    "Operand\tResult\n",
    "False\tTrue\n",
    "True \tFalse\n",
    "\n"
   ]
  },
  {
   "cell_type": "markdown",
   "id": "98592d05",
   "metadata": {},
   "source": [
    "4. What are the values of the following expressions?\n",
    "•\t(5 > 4) and (3 == 5)  True and False = False\n",
    "•\tnot (5 > 4) not True = False\n",
    "•\t(5 > 4) or (3 == 5)  True or False = True\n",
    "•\tnot ((5 > 4) or (3 == 5))  not True or False = False\n",
    "•\t(True and True) and (True == False)  True and False =True \n",
    "•\t(Not False) or (not True) True or False = True\n"
   ]
  },
  {
   "cell_type": "markdown",
   "id": "ce56aed8",
   "metadata": {},
   "source": [
    "5. What are the six comparison operators?\n",
    "1.\tLess than: <\n",
    "2.\tLess than or equal to: <=\n",
    "3.\tGreater than: >\n",
    "4.\tGreater than or equal to: >=\n",
    "5.\tEqual to: ==\n",
    "6.\tNot equal to:!==\n"
   ]
  },
  {
   "cell_type": "code",
   "execution_count": 3,
   "id": "b970e844",
   "metadata": {},
   "outputs": [
    {
     "name": "stdout",
     "output_type": "stream",
     "text": [
      "x and y are equal\n",
      "-------------------------\n",
      "The value of x is: 5\n",
      "The value of y is: 5\n"
     ]
    }
   ],
   "source": [
    "# 6. How do you tell the difference between the equal to and assignment operators? Describe a condition and when you would use one.\n",
    "# •equal to operator is denoted by ==, while the assignment operator is denoted by =. The key difference between them is as follows:\n",
    "# •Equal to operator (==): The equal to operator is used for comparison. It checks whether two values are equal and returns a Boolean value of either True or False. For example:\n",
    "x = 3\n",
    "y = 3\n",
    "\n",
    "if x == y:\n",
    "    print(\"x and y are equal\")\n",
    "else:\n",
    "    print(\"x and y are not equal\")\n",
    "\n",
    "print (\"-------------------------\")\n",
    "\n",
    "\n",
    "#•Assignment operator (=): The assignment operator is used to assign a value to a variable. It takes the value on the right and assigns it to the variable on the left. For example\n",
    "x = 5\n",
    "y = x\n",
    "\n",
    "print(\"The value of x is:\", x)\n",
    "print(\"The value of y is:\", y)\n"
   ]
  },
  {
   "cell_type": "code",
   "execution_count": null,
   "id": "5d3ce597",
   "metadata": {},
   "outputs": [],
   "source": [
    "7. Identify the three blocks in this code:\n",
    "spam = 0\n",
    "if spam == 10:\n",
    "print('eggs')\n",
    "if spam > 5:\n",
    "print('bacon')\n",
    "else:\n",
    "print('ham')\n",
    "print('spam')\n",
    "print('spam')\n",
    "\n",
    "•Block 1 is the if statement that checks if the value of spam is equal to 10. If it is, the message eggs will be printed.\n",
    "•Block 2 is the if statement that checks if the value of spam is greater than 5. If it is, the message bacon will be printed. Otherwise, the message ham will be printed.\n",
    "•Block 3 is the set of statements that are not part of any if statement. These statements are simply printed, regardless of the value of spam.\n"
   ]
  },
  {
   "cell_type": "code",
   "execution_count": 4,
   "id": "0b631df6",
   "metadata": {},
   "outputs": [
    {
     "name": "stdout",
     "output_type": "stream",
     "text": [
      "enter a number 1,2,or anything else:2\n",
      "howdy\n"
     ]
    }
   ],
   "source": [
    "#8.Write code that prints Hello if 1 is stored in spam, prints Howdy if 2 is stored in spam, and prints Greetings! if anything else is stored in spam.\n",
    "spam = int(input(\"enter a number 1,2,or anything else:\"))\n",
    "if spam == 1:\n",
    "    print(\"hello\")\n",
    "elif spam == 2:\n",
    "    print(\"howdy\")\n",
    "else:\n",
    "    print(\"greetings!\")"
   ]
  },
  {
   "cell_type": "code",
   "execution_count": null,
   "id": "3c3187d3",
   "metadata": {},
   "outputs": [],
   "source": [
    "9.If your programme is stuck in an endless loop, what keys you’ll press?\n",
    "•CTRL + C\n"
   ]
  },
  {
   "cell_type": "code",
   "execution_count": 5,
   "id": "ed4921b8",
   "metadata": {},
   "outputs": [
    {
     "name": "stdout",
     "output_type": "stream",
     "text": [
      "1\n",
      "2\n",
      "----------------------------------------------------\n",
      "1\n",
      "2\n",
      "4\n"
     ]
    }
   ],
   "source": [
    "# 10. How can you tell the difference between break and continue?\n",
    "# •The break statement terminates the loop completely. This means that the loop will not execute any more iterations, and the control will be transferred to the statement that follows the loop.\n",
    "\n",
    "# •The continue statement skips the current iteration of the loop. This means that the loop will execute the next iteration, but the current iteration will be skipped.\n",
    "\n",
    "# •For example:\n",
    "\n",
    "# 1.In the following code of break, when i equals 3, the break statement is encountered, causing the loop to terminate immediately. As a result, the loop stops executing, and the program continues with the code after the loop.\n",
    "# 2.Continue, when i equals 3, the continue statement is triggered. As a result, the print(i) statement is skipped for that iteration, and the loop proceeds to the next iteration. \n",
    "for i in range(1,5):\n",
    "    if i == 3:\n",
    "        break\n",
    "    print(i)\n",
    "\n",
    "\n",
    "\n",
    "print(\"----------------------------------------------------\")\n",
    "\n",
    "\n",
    "\n",
    "for i in range(1,5):\n",
    "    if i == 3:\n",
    "        continue\n",
    "    print(i)\n"
   ]
  },
  {
   "cell_type": "code",
   "execution_count": null,
   "id": "61bff7bd",
   "metadata": {},
   "outputs": [],
   "source": [
    "11. In a for loop, what is the difference between range (10), range (0, 10), and range (0, 10, 1)?\n",
    "•Range (10): -here stop value is specified but start value considered as 0 by default.so it will generate a sequence of numbers starting from 0 (by default) up to, but not including, the specified value\n",
    "Sequence: 0, 1, 2, 3, 4, 5, 6, 7, 8, 9. \n",
    "•range (0, 10), in this case start and end values of the sequence is specified. It generates a sequence of numbers starting from the given start value (0 in this case) and ending at, but not including, the given end value (10 in this case). The sequence generated by range (0, 10) is also the same as range (10): 0, 1, 2, 3, 4, 5, 6, 7, 8, 9.\n",
    "•range (0, 10, 1): in this start, end, and step values of the sequence is specified . It generates a sequence of numbers starting from the given start value (0 in this case) and ending at, but not including, the given end value (10 in this case), incrementing by the given step value (1 in this case). The sequence generated by range(0, 10, 1) is also the same as range (10): 0, 1, 2, 3, 4, 5, 6, 7, 8, 9.\n",
    "\n"
   ]
  },
  {
   "cell_type": "code",
   "execution_count": 6,
   "id": "bb134a83",
   "metadata": {},
   "outputs": [
    {
     "name": "stdout",
     "output_type": "stream",
     "text": [
      "1\n",
      "2\n",
      "3\n",
      "4\n",
      "5\n",
      "6\n",
      "7\n",
      "8\n",
      "9\n",
      "10\n",
      "----------------------------------------------------------------\n",
      "1\n",
      "2\n",
      "3\n",
      "4\n",
      "5\n",
      "6\n",
      "7\n",
      "8\n",
      "9\n",
      "10\n"
     ]
    }
   ],
   "source": [
    "#12.Write a short program that prints the numbers 1 to 10 using a for loop. Then write an equivalent program that prints the numbers 1 to 10 using a while loop.\n",
    "for i in range(1,11):\n",
    "    print(i)\n",
    "\n",
    "print(\"----------------------------------------------------------------\")\n",
    "\n",
    "count = 1\n",
    "while count <=10:\n",
    "    print(count)\n",
    "    count+=1\n"
   ]
  },
  {
   "cell_type": "code",
   "execution_count": 7,
   "id": "4c74f475",
   "metadata": {},
   "outputs": [
    {
     "ename": "ModuleNotFoundError",
     "evalue": "No module named 'spam'",
     "output_type": "error",
     "traceback": [
      "\u001b[1;31m---------------------------------------------------------------------------\u001b[0m",
      "\u001b[1;31mModuleNotFoundError\u001b[0m                       Traceback (most recent call last)",
      "Cell \u001b[1;32mIn[7], line 2\u001b[0m\n\u001b[0;32m      1\u001b[0m get_ipython()\u001b[38;5;241m.\u001b[39mrun_line_magic(\u001b[38;5;124m'\u001b[39m\u001b[38;5;124mpinfo\u001b[39m\u001b[38;5;124m'\u001b[39m, \u001b[38;5;124m'\u001b[39m\u001b[38;5;124mspam\u001b[39m\u001b[38;5;124m'\u001b[39m)\n\u001b[1;32m----> 2\u001b[0m \u001b[38;5;28;01mimport\u001b[39;00m \u001b[38;5;21;01mspam\u001b[39;00m\n\u001b[0;32m      4\u001b[0m bascon_function \u001b[38;5;241m=\u001b[39m spam\u001b[38;5;241m.\u001b[39mbascon\n\u001b[0;32m      5\u001b[0m bascon_function()\n",
      "\u001b[1;31mModuleNotFoundError\u001b[0m: No module named 'spam'"
     ]
    }
   ],
   "source": [
    "#13. If you had a function named bascon () inside a module named spam, how would you call it after importing spam?\n",
    "# import spam\n",
    "\n",
    "# bascon_function = spam.bascon\n",
    "# bascon_function()\n",
    "\n"
   ]
  },
  {
   "cell_type": "code",
   "execution_count": null,
   "id": "1da4ba34",
   "metadata": {},
   "outputs": [],
   "source": []
  }
 ],
 "metadata": {
  "kernelspec": {
   "display_name": "Python 3 (ipykernel)",
   "language": "python",
   "name": "python3"
  },
  "language_info": {
   "codemirror_mode": {
    "name": "ipython",
    "version": 3
   },
   "file_extension": ".py",
   "mimetype": "text/x-python",
   "name": "python",
   "nbconvert_exporter": "python",
   "pygments_lexer": "ipython3",
   "version": "3.11.3"
  }
 },
 "nbformat": 4,
 "nbformat_minor": 5
}
